{
 "cells": [
  {
   "cell_type": "code",
   "execution_count": null,
   "id": "8981cccb-a317-4a00-a9c4-b3210949d309",
   "metadata": {},
   "outputs": [],
   "source": [
    "import pandas as pd\n",
    "import numpy as np\n",
    "import matplotlib.pyplot as plt\n",
    "import seaborn as sns"
   ]
  },
  {
   "cell_type": "code",
   "execution_count": null,
   "id": "d86e5213-a289-4708-a7d9-49525bfac60b",
   "metadata": {},
   "outputs": [],
   "source": [
    "%run utils.py"
   ]
  },
  {
   "cell_type": "code",
   "execution_count": null,
   "id": "2f1374bb-df0b-4cbd-b78c-980dd789e4ee",
   "metadata": {},
   "outputs": [],
   "source": [
    "# Load the datasets\n",
    "train_df = pd.read_csv(\"../data/train.csv\")\n",
    "test_df = pd.read_csv(\"../data/test.csv\")"
   ]
  },
  {
   "cell_type": "code",
   "execution_count": null,
   "id": "4da03bc0-6430-4c1b-9c4b-db4e171c070a",
   "metadata": {},
   "outputs": [],
   "source": [
    "target = 'SalePrice'"
   ]
  },
  {
   "cell_type": "code",
   "execution_count": null,
   "id": "aab63c91-b8c8-4e13-b5e7-cabfac0f06a4",
   "metadata": {},
   "outputs": [],
   "source": [
    "# Display basic information\n",
    "train_df.info()"
   ]
  },
  {
   "cell_type": "code",
   "execution_count": null,
   "id": "fbe685d1-1104-4602-872c-8b944822cf22",
   "metadata": {},
   "outputs": [],
   "source": [
    "print(f'Train set shape: {train_df.shape}')\n",
    "print(f'Test set shape: {test_df.shape}')"
   ]
  },
  {
   "cell_type": "code",
   "execution_count": null,
   "id": "113359f9-d3a8-48b3-83c1-39e449340f46",
   "metadata": {},
   "outputs": [],
   "source": [
    "train_df.head()"
   ]
  },
  {
   "cell_type": "markdown",
   "id": "21276e70-fbb9-4adb-98fc-d97fd79a753c",
   "metadata": {},
   "source": [
    "## NaN inspection"
   ]
  },
  {
   "cell_type": "markdown",
   "id": "ad99b0e3-76bb-4ece-95f4-3da3ddc0c253",
   "metadata": {
    "scrolled": true
   },
   "source": [
    "#### Columns with NaN values"
   ]
  },
  {
   "cell_type": "code",
   "execution_count": null,
   "id": "9708cc98-9b0d-48d7-bfa9-e7725c685e1c",
   "metadata": {},
   "outputs": [],
   "source": [
    "nan_df = train_df.loc[:, train_df.isna().any()]\n",
    "# train_df.loc[:, train_df.isna().any(axis=0)]\n",
    "\n",
    "nan_df.head()"
   ]
  },
  {
   "cell_type": "code",
   "execution_count": null,
   "id": "95f10f25-705c-4e69-bdfd-a9320a52b19a",
   "metadata": {},
   "outputs": [],
   "source": [
    "NO_EXP = \"No explaination provided.\"\n",
    "nan_explainations = {\n",
    "    \"LotFrontage\": NO_EXP,\n",
    "    \"Alley\": \"No alley access\",\n",
    "    \"MasVnrType\": \"(?) None --> No veneer\",\n",
    "    \"MasVnrArea\": NO_EXP,\n",
    "    \"BsmtQual\": \"No Basement\",\n",
    "    \"BsmtCond\": \"No Basement\",\n",
    "    \"BsmtExposure\": \"No Basement\",\n",
    "    \"BsmtFinType1\": \"No Basement\",\n",
    "    \"BsmtFinType2\": \"No Basement\",\n",
    "    \"Electrical\": NO_EXP,\n",
    "    \"FireplaceQu\": \"No Fireplace\",\n",
    "    \"GarageType\": \"No Garage\",\n",
    "    \"GarageYrBlt\": \"No Garage --> No year when garage was built\",\n",
    "    \"GarageFinish\": \"No Basement\",\n",
    "    \"GarageQual\": \"No Basement\",\n",
    "    \"GarageCond\": \"No Basement\",\n",
    "    \"PoolQC\": \"No Pool\",\n",
    "    \"Fence\": \"No Fence\",\n",
    "    \"MiscFeature\": \"(?) None --> No other miscellaneous features\",\n",
    "}"
   ]
  },
  {
   "cell_type": "code",
   "execution_count": null,
   "id": "4983be56-5825-4664-b678-fd84f2b1e5cf",
   "metadata": {},
   "outputs": [],
   "source": [
    "nan_explaination_df = nan_df.isna().sum().to_frame(name=\"NaN Count\")\n",
    "nan_explaination_df[\"NaN Explaination\"] = nan_explainations\n",
    "\n",
    "nan_explaination_df"
   ]
  },
  {
   "cell_type": "code",
   "execution_count": null,
   "id": "df79a7c7-edf8-4db1-8bb7-004c21d2e2b8",
   "metadata": {},
   "outputs": [],
   "source": [
    "train_df[train_df[\"Electrical\"].isna()]"
   ]
  },
  {
   "cell_type": "code",
   "execution_count": null,
   "id": "f6cbce38-eff8-4d7b-8a80-d5c2d053b034",
   "metadata": {},
   "outputs": [],
   "source": [
    "# One time override of the default column number truncation in a displayed df\n",
    "\n",
    "with pd.option_context('display.max_columns', None):\n",
    "    display(train_df[train_df[\"MasVnrArea\"].isna()])"
   ]
  },
  {
   "cell_type": "markdown",
   "id": "a1f4c685-380c-4f8d-ad7e-179de2b334ab",
   "metadata": {},
   "source": [
    "## Scatter plots of X against Y"
   ]
  },
  {
   "cell_type": "code",
   "execution_count": null,
   "id": "a9b2e3f0-1909-4494-8018-43fc0a0a855e",
   "metadata": {
    "scrolled": true
   },
   "outputs": [],
   "source": [
    "x_y_scatterplots(train_df, target)"
   ]
  },
  {
   "cell_type": "markdown",
   "id": "1f1d7e67-a533-4056-8efe-2e49bf665b71",
   "metadata": {
    "editable": true,
    "slideshow": {
     "slide_type": ""
    },
    "tags": []
   },
   "source": [
    "## Nominal, Ordinal, Interval & Scale features indentification\n",
    "\n",
    "- **Ordinal scale predictors cannot be included into Linear Model directly**  \n",
    "  - Computing mean and addition operation is not allowed on ordinal variables\n",
    "\n",
    "### Recoding scheme\n",
    "\n",
    "1. **Approach 1** - recode into binary  \n",
    "2. **Approach 2** - treat as interval / discrete ratio  \n",
    "    1. **Recode using mid-points**  \n",
    "        1. *e.g.* Duration: 1-3 weeks - 2, 4-6 weeks - 5, 7-9 weeks - 8  \n",
    "        1. Problem: open intervals\n",
    "            1. Max 20% of the datapoints are allowed to be in the open interval  \n",
    "          \n",
    "   \n",
    "   2. **Code using integers making the assumption of equal intervals**\n",
    "        1. *e.g.* Likert scale questionnaire\n",
    "        2. *e.g.* Education: primary - 0, secondary - 1, higher - 2  \n"
   ]
  },
  {
   "cell_type": "code",
   "execution_count": null,
   "id": "2d538d48-79c9-4aad-a20d-4c0ec0f08212",
   "metadata": {
    "scrolled": true
   },
   "outputs": [],
   "source": [
    "# Automated separation based on dtypes\n",
    "non_quant_numeric_cols = ['MSSubClass', 'MoSold']\n",
    "exception_cols = ['Id', 'MiscVal', target]\n",
    "\n",
    "quantitative_vars = pd.Series(train_df.select_dtypes(include=['int64', 'float64']).columns)\n",
    "quantitative_vars = quantitative_vars[~quantitative_vars.isin(non_quant_numeric_cols)\n",
    "                    & ~quantitative_vars.isin(exception_cols)]\n",
    "# quantitative_vars\n",
    "\n",
    "categorical_vars = pd.Series(\n",
    "    train_df.columns[~train_df.columns.isin(quantitative_vars)\n",
    "                    & ~train_df.columns.isin(exception_cols)]\n",
    ")\n",
    "# categorical_vars\n",
    "\n",
    "print(f\"Number of columns: {len(train_df.columns)}\")\n",
    "print(f\"Number of Quantitative variables: {len(quantitative_vars)}\")\n",
    "print(f\"Number of Categorical variables: {len(categorical_vars)}\")\n",
    "print(len(quantitative_vars) + len(categorical_vars))"
   ]
  },
  {
   "cell_type": "markdown",
   "id": "c28a0494-ab47-4031-8f8f-1be93f28acf6",
   "metadata": {},
   "source": [
    "### Plot Quantitative features "
   ]
  },
  {
   "cell_type": "code",
   "execution_count": null,
   "id": "7793aa72-cd07-42eb-a054-5ff8e2089e8b",
   "metadata": {
    "scrolled": true
   },
   "outputs": [],
   "source": [
    "x_y_scatterplots(train_df, target, cols=quantitative_vars)"
   ]
  },
  {
   "cell_type": "markdown",
   "id": "14c33d77-0b10-45bf-993e-cc8114a911a6",
   "metadata": {},
   "source": [
    "### Plot Categorical features "
   ]
  },
  {
   "cell_type": "code",
   "execution_count": null,
   "id": "d63d8f85-6710-4d03-84d7-2b7f4731a71d",
   "metadata": {
    "scrolled": true
   },
   "outputs": [],
   "source": [
    "x_y_scatterplots(train_df, target, cols=categorical_vars)"
   ]
  },
  {
   "cell_type": "markdown",
   "id": "703e2ec0-a173-4a4c-8089-7ed56875a8b1",
   "metadata": {},
   "source": [
    "## Histogram"
   ]
  },
  {
   "cell_type": "markdown",
   "id": "3e7ff410-7ad1-4d35-9313-9b7816d9797e",
   "metadata": {},
   "source": [
    "## Outliers"
   ]
  },
  {
   "cell_type": "markdown",
   "id": "d4308851-487e-41df-ba28-29479a4dd326",
   "metadata": {},
   "source": [
    "## Correlation between X and Y"
   ]
  },
  {
   "cell_type": "markdown",
   "id": "c25d7964-971d-454a-8328-928e63b2adc5",
   "metadata": {},
   "source": [
    "## "
   ]
  }
 ],
 "metadata": {
  "kernelspec": {
   "display_name": "mlkernel",
   "language": "python",
   "name": "mlkernel"
  },
  "language_info": {
   "codemirror_mode": {
    "name": "ipython",
    "version": 3
   },
   "file_extension": ".py",
   "mimetype": "text/x-python",
   "name": "python",
   "nbconvert_exporter": "python",
   "pygments_lexer": "ipython3",
   "version": "3.12.4"
  }
 },
 "nbformat": 4,
 "nbformat_minor": 5
}
