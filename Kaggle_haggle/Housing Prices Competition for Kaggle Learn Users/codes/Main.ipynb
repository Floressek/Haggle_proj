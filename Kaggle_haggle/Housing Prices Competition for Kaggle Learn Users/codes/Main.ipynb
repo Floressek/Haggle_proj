{
 "cells": [
  {
   "cell_type": "code",
   "execution_count": null,
   "id": "f7fb22ed-ed03-450b-b0f7-42bb2b6f3a35",
   "metadata": {},
   "outputs": [],
   "source": [
    "import pandas as pd\n",
    "import numpy as np\n",
    "import matplotlib.pyplot as plt\n",
    "import seaborn as sns"
   ]
  },
  {
   "cell_type": "code",
   "execution_count": null,
   "id": "2f1374bb-df0b-4cbd-b78c-980dd789e4ee",
   "metadata": {},
   "outputs": [],
   "source": [
    "# Load the datasets\n",
    "train_df = pd.read_csv(\"../data/train.csv\")\n",
    "test_df = pd.read_csv(\"../data/test.csv\")"
   ]
  },
  {
   "cell_type": "code",
   "execution_count": null,
   "id": "aab63c91-b8c8-4e13-b5e7-cabfac0f06a4",
   "metadata": {},
   "outputs": [],
   "source": [
    "# Display basic information\n",
    "train_df.info()"
   ]
  },
  {
   "cell_type": "code",
   "execution_count": null,
   "id": "fbe685d1-1104-4602-872c-8b944822cf22",
   "metadata": {},
   "outputs": [],
   "source": [
    "print(f'Train set shape: {train_df.shape}')\n",
    "print(f'Test set shape: {test_df.shape}')"
   ]
  },
  {
   "cell_type": "code",
   "execution_count": null,
   "id": "113359f9-d3a8-48b3-83c1-39e449340f46",
   "metadata": {},
   "outputs": [],
   "source": [
    "train_df.head()"
   ]
  },
  {
   "cell_type": "markdown",
   "id": "21276e70-fbb9-4adb-98fc-d97fd79a753c",
   "metadata": {},
   "source": [
    "## NaN inspection"
   ]
  },
  {
   "cell_type": "markdown",
   "id": "ad99b0e3-76bb-4ece-95f4-3da3ddc0c253",
   "metadata": {
    "scrolled": true
   },
   "source": [
    "#### Columns with NaN values"
   ]
  },
  {
   "cell_type": "code",
   "execution_count": null,
   "id": "9708cc98-9b0d-48d7-bfa9-e7725c685e1c",
   "metadata": {},
   "outputs": [],
   "source": [
    "nan_df = train_df.loc[:, train_df.isna().any()]\n",
    "# train_df.loc[:, train_df.isna().any(axis=0)]\n",
    "\n",
    "nan_df.head()"
   ]
  },
  {
   "cell_type": "code",
   "execution_count": null,
   "id": "95f10f25-705c-4e69-bdfd-a9320a52b19a",
   "metadata": {},
   "outputs": [],
   "source": [
    "NO_EXP = \"No explaination provided.\"\n",
    "nan_explainations = {\n",
    "    \"LotFrontage\": NO_EXP,\n",
    "    \"Alley\": \"No alley access\",\n",
    "    \"MasVnrType\": \"(?) None --> No veneer\",\n",
    "    \"MasVnrArea\": NO_EXP,\n",
    "    \"BsmtQual\": \"No Basement\",\n",
    "    \"BsmtCond\": \"No Basement\",\n",
    "    \"BsmtExposure\": \"No Basement\",\n",
    "    \"BsmtFinType1\": \"No Basement\",\n",
    "    \"BsmtFinType2\": \"No Basement\",\n",
    "    \"Electrical\": NO_EXP,\n",
    "    \"FireplaceQu\": \"No Fireplace\",\n",
    "    \"GarageType\": \"No Garage\",\n",
    "    \"GarageYrBlt\": \"No Garage --> No year when garage was built\",\n",
    "    \"GarageFinish\": \"No Basement\",\n",
    "    \"GarageQual\": \"No Basement\",\n",
    "    \"GarageCond\": \"No Basement\",\n",
    "    \"PoolQC\": \"No Pool\",\n",
    "    \"Fence\": \"No Fence\",\n",
    "    \"MiscFeature\": \"(?) None --> No other miscellaneous features\",\n",
    "}"
   ]
  },
  {
   "cell_type": "code",
   "execution_count": null,
   "id": "4983be56-5825-4664-b678-fd84f2b1e5cf",
   "metadata": {},
   "outputs": [],
   "source": [
    "nan_explaination_df = nan_df.isna().sum().to_frame(name=\"NaN Count\")\n",
    "nan_explaination_df[\"NaN Explaination\"] = nan_explainations\n",
    "\n",
    "nan_explaination_df"
   ]
  },
  {
   "cell_type": "code",
   "execution_count": null,
   "id": "df79a7c7-edf8-4db1-8bb7-004c21d2e2b8",
   "metadata": {},
   "outputs": [],
   "source": [
    "train_df[train_df[\"Electrical\"].isna()]"
   ]
  },
  {
   "cell_type": "code",
   "execution_count": null,
   "id": "f6cbce38-eff8-4d7b-8a80-d5c2d053b034",
   "metadata": {},
   "outputs": [],
   "source": [
    "# One time override of the default column number truncation in a displayed df\n",
    "\n",
    "with pd.option_context('display.max_columns', None):\n",
    "    display(train_df[train_df[\"MasVnrArea\"].isna()])"
   ]
  },
  {
   "cell_type": "code",
   "execution_count": null,
   "id": "21cce672-d714-4583-99ad-d5ad5fa0fd97",
   "metadata": {},
   "outputs": [],
   "source": []
  }
 ],
 "metadata": {
  "kernelspec": {
   "display_name": "mlkernel",
   "language": "python",
   "name": "mlkernel"
  },
  "language_info": {
   "codemirror_mode": {
    "name": "ipython",
    "version": 3
   },
   "file_extension": ".py",
   "mimetype": "text/x-python",
   "name": "python",
   "nbconvert_exporter": "python",
   "pygments_lexer": "ipython3",
   "version": "3.12.4"
  }
 },
 "nbformat": 4,
 "nbformat_minor": 5
}
